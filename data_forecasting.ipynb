{
 "cells": [
  {
   "cell_type": "markdown",
   "metadata": {},
   "source": [
    "### Import Libraries and Load Model"
   ]
  },
  {
   "cell_type": "code",
   "execution_count": null,
   "metadata": {},
   "outputs": [],
   "source": [
    "import pandas as pd\n",
    "import numpy as np\n",
    "import mlflow"
   ]
  },
  {
   "cell_type": "code",
   "execution_count": null,
   "metadata": {},
   "outputs": [],
   "source": [
    "import mlflow\n",
    "\n",
    "# Load model artifact to make inferences on new transactions\n",
    "# Could be deployed on cloud or using FastAPI\n",
    "inference_model = mlflow.sklearn.load_model(\"runs:/ab72da1a969d4f6ebc75616e8876d939/models/ridge_classifier\")"
   ]
  },
  {
   "cell_type": "markdown",
   "metadata": {},
   "source": [
    "### Format new Data for Prediction"
   ]
  },
  {
   "cell_type": "code",
   "execution_count": null,
   "metadata": {},
   "outputs": [],
   "source": [
    "# Data from new transactions\n",
    "transactions = \"\"\"\n",
    "10.5,0.06571418002525332,18,-0.7624900215463709,156610,166081.0,18103.0,-0.33024966895877095,24,0,6,3,-0.060480861447470585,0,0,0,0,0,0,0,0.0\n",
    "5.65,0.0,14,-0.588837873889145,277427,3495.0,28654.0,-0.1131596378888,17,0,4,5,-0.060480861447470585,0,1,0,0,0,0,0,0.0\n",
    "401.44,1.4680946788967681,20,-0.588837873889145,151266,477.0,3601.0,0.5689987510364858,22,0,4,3,0.06780933672393567,0,1,0,0,0,0,0,0.0\n",
    "143.61,0.0,18,1.1218691508323768,191536,5760.0,66018.0,0.3272014437787832,8,0,0,4,-0.060480861447470585,0,1,0,0,0,0,0,0.0\n",
    "106.77,1.6496443329121409,10,0.924392147842978,261230,1565.0,42634.0,0.2519473396944386,10,0,4,5,0.06780933672393567,0,1,0,0,0,0,0,0.0\n",
    "4.46,0.0,1,-0.6232182924237895,301753,1252.0,97375.0,-0.1437972224988989,27,0,0,5,-0.060480861447470585,1,1,0,0,0,0,0,0.0\n",
    "24.24,0.0,17,-0.9102272605448781,108934,217.0,32323.0,0.2459494145081303,3,0,6,3,-0.060480861447470585,0,0,0,0,0,0,0,0.0\n",
    "1.04,0.0,22,0.11472769218192846,195360,10076.0,70774.0,-0.9963334395476915,10,0,2,4,-0.060480861447470585,0,1,0,0,0,0,0,0.0\n",
    "85.98,0.0,13,-0.8769125935111616,89230,928.0,60072.0,0.40769228052098855,22,0,4,2,0.06780933672393567,0,1,0,0,0,0,0,0.0\n",
    "\"\"\"\n",
    "\n",
    "transactions_list = [row.split(',') for row in transactions.strip().split('\\n')]\n",
    "transactions_array = np.array(transactions_list, dtype=float)[:, 1:]"
   ]
  },
  {
   "cell_type": "markdown",
   "metadata": {},
   "source": [
    "### Make Predictions on Best Estimator"
   ]
  },
  {
   "cell_type": "code",
   "execution_count": null,
   "metadata": {},
   "outputs": [],
   "source": [
    "predictions = inference_model.predict(transactions_array)"
   ]
  }
 ],
 "metadata": {
  "kernelspec": {
   "display_name": "Python 3",
   "language": "python",
   "name": "python3"
  },
  "language_info": {
   "codemirror_mode": {
    "name": "ipython",
    "version": 3
   },
   "file_extension": ".py",
   "mimetype": "text/x-python",
   "name": "python",
   "nbconvert_exporter": "python",
   "pygments_lexer": "ipython3",
   "version": "3.11.5"
  }
 },
 "nbformat": 4,
 "nbformat_minor": 2
}
